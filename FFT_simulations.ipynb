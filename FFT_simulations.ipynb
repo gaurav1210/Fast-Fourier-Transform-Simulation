{
  "nbformat": 4,
  "nbformat_minor": 0,
  "metadata": {
    "colab": {
      "private_outputs": true,
      "provenance": []
    },
    "kernelspec": {
      "name": "python3",
      "display_name": "Python 3"
    },
    "language_info": {
      "name": "python"
    }
  },
  "cells": [
    {
      "cell_type": "code",
      "source": [
        "import numpy as np\n",
        "import matplotlib.pyplot as plt\n",
        "\n",
        "fs = 500\n",
        "t = np.linspace(0, 1, fs, endpoint=False)\n",
        "signal = np.sin(2 * np.pi * 50 * t) + np.sin(2 * np.pi * 120 * t)\n",
        "noisy_signal = signal + 0.5 * np.random.randn(len(t))\n",
        "\n",
        "fft_signal = np.fft.fft(noisy_signal)\n",
        "freqs = np.fft.fftfreq(len(t), 1/fs)\n",
        "\n",
        "low_cutoff = 40\n",
        "high_cutoff = 100\n",
        "bandpass_low = 40\n",
        "bandpass_high = 100\n",
        "bandstop_low = 50\n",
        "bandstop_high = 120\n",
        "\n",
        "fft_lowpass = fft_signal.copy()\n",
        "fft_lowpass[np.abs(freqs) > low_cutoff] = 0\n",
        "signal_lowpass = np.fft.ifft(fft_lowpass).real\n",
        "\n",
        "fft_highpass = fft_signal.copy()\n",
        "fft_highpass[np.abs(freqs) < high_cutoff] = 0\n",
        "signal_highpass = np.fft.ifft(fft_highpass).real\n",
        "\n",
        "fft_bandpass = fft_signal.copy()\n",
        "fft_bandpass[(np.abs(freqs) < bandpass_low) | (np.abs(freqs) > bandpass_high)] = 0\n",
        "signal_bandpass = np.fft.ifft(fft_bandpass).real\n",
        "\n",
        "fft_bandstop = fft_signal.copy()\n",
        "fft_bandstop[(np.abs(freqs) > bandstop_low) & (np.abs(freqs) < bandstop_high)] = 0\n",
        "signal_bandstop = np.fft.ifft(fft_bandstop).real\n",
        "\n",
        "plt.figure(figsize=(12, 10))\n",
        "\n",
        "plt.subplot(3, 2, 1)\n",
        "plt.plot(t, noisy_signal, label='Noisy Signal')\n",
        "plt.plot(t, signal, label='Original Signal', linestyle='dashed')\n",
        "plt.title(\"Original and Noisy Signals\")\n",
        "plt.legend()\n",
        "\n",
        "plt.subplot(3, 2, 2)\n",
        "plt.plot(t, signal_lowpass, label='Low-pass Filtered', color='red')\n",
        "plt.title(\"Low-pass Filtering\")\n",
        "plt.legend()\n",
        "\n",
        "plt.subplot(3, 2, 3)\n",
        "plt.plot(t, signal_highpass, label='High-pass Filtered', color='green')\n",
        "plt.title(\"High-pass Filtering\")\n",
        "plt.legend()\n",
        "\n",
        "plt.subplot(3, 2, 4)\n",
        "plt.plot(t, signal_bandpass, label='Band-pass Filtered', color='purple')\n",
        "plt.title(\"Band-pass Filtering\")\n",
        "plt.legend()\n",
        "\n",
        "plt.subplot(3, 2, 5)\n",
        "plt.plot(t, signal_bandstop, label='Band-stop Filtered', color='orange')\n",
        "plt.title(\"Band-stop Filtering\")\n",
        "plt.legend()\n",
        "\n",
        "plt.tight_layout()\n",
        "plt.show()"
      ],
      "metadata": {
        "id": "RTIc0Y79tGi_"
      },
      "execution_count": null,
      "outputs": []
    }
  ]
}